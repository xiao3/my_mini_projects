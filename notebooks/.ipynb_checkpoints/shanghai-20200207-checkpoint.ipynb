{
 "cells": [
  {
   "cell_type": "markdown",
   "metadata": {},
   "source": [
    "# 上海疫情地图"
   ]
  },
  {
   "cell_type": "code",
   "execution_count": 1,
   "metadata": {},
   "outputs": [
    {
     "ename": "ImportError",
     "evalue": "cannot import name 'Map' from 'pyecharts' (C:\\Users\\wach9011\\AppData\\Local\\Continuum\\anaconda3_32bit\\lib\\site-packages\\pyecharts\\__init__.py)",
     "output_type": "error",
     "traceback": [
      "\u001b[1;31m---------------------------------------------------------------------------\u001b[0m",
      "\u001b[1;31mImportError\u001b[0m                               Traceback (most recent call last)",
      "\u001b[1;32m<ipython-input-1-dfc695b2da00>\u001b[0m in \u001b[0;36m<module>\u001b[1;34m\u001b[0m\n\u001b[0;32m      1\u001b[0m \u001b[1;32mimport\u001b[0m \u001b[0mpandas\u001b[0m \u001b[1;32mas\u001b[0m \u001b[0mpd\u001b[0m\u001b[1;33m\u001b[0m\u001b[1;33m\u001b[0m\u001b[0m\n\u001b[1;32m----> 2\u001b[1;33m \u001b[1;32mfrom\u001b[0m \u001b[0mpyecharts\u001b[0m \u001b[1;32mimport\u001b[0m \u001b[0mMap\u001b[0m\u001b[1;33m\u001b[0m\u001b[1;33m\u001b[0m\u001b[0m\n\u001b[0m",
      "\u001b[1;31mImportError\u001b[0m: cannot import name 'Map' from 'pyecharts' (C:\\Users\\wach9011\\AppData\\Local\\Continuum\\anaconda3_32bit\\lib\\site-packages\\pyecharts\\__init__.py)"
     ]
    }
   ],
   "source": [
    "import pandas as pd\n",
    "from pyecharts import Map"
   ]
  },
  {
   "cell_type": "code",
   "execution_count": null,
   "metadata": {},
   "outputs": [],
   "source": [
    "# input data\n",
    "df_input = pd.read_excel('../data/shanghai_20200207.xlsx')\n",
    "df_input"
   ]
  },
  {
   "cell_type": "code",
   "execution_count": null,
   "metadata": {},
   "outputs": [],
   "source": [
    "districts = df_input['地区名'].tolist()\n",
    "value = df_input['确诊人数'].tolist()\n",
    "max_value = max(value)\n",
    "min_value = min(value)"
   ]
  },
  {
   "cell_type": "code",
   "execution_count": null,
   "metadata": {},
   "outputs": [],
   "source": [
    "# define map info\n",
    "title = \"新型冠状病毒感染肺炎上海疫情地图\"\n",
    "subtitle = \"截至2020年2月7日  绘制：xxx\"\n",
    "maptype_name = \"上海\"\n",
    "output_path = \"../output/shanghai-1.html\"\n",
    "\n",
    "# create map\n",
    "map = Map(title, subtitle, width=1000, height=1000)\n",
    "map.add(\"确诊地区\", \n",
    "        districts, value, maptype=maptype_name, \n",
    "        is_visualmap=True,     \n",
    "        visual_range=[min(value), max(value)],\n",
    "        is_label_show=True , \n",
    "       )\n",
    "map.render(path=output_path)"
   ]
  },
  {
   "cell_type": "code",
   "execution_count": null,
   "metadata": {},
   "outputs": [],
   "source": [
    "# define bins\n",
    "my_pieces = [\n",
    "      {\"min\": 30, \"label\": \">30\", \"color\": \"#8B1A1A\"}, \n",
    "      {\"min\": 11, \"max\": 30, \"label\": \"11-30\", \"color\": \"#CD3333\"},\n",
    "      {\"min\": 5, \"max\": 10, \"label\": \"6-10\", \"color\": \"#FF6347\"},\n",
    "      {\"max\": 5, \"label\": \"1-5\", \"color\": \"#FFA07A\"}   \n",
    "        ]\n",
    "\n",
    "# define map info\n",
    "output_path = \"../output/shanghai-2.html\"\n",
    "\n",
    "# create map\n",
    "map = Map(title, subtitle, width=1000, height=1000)\n",
    "map.add(\"确诊地区\",\n",
    "        districts, value, maptype=maptype_name, \n",
    "        is_visualmap=True,  \n",
    "        is_piecewise=True,\n",
    "        visual_text_color=\"#000\",\n",
    "        visual_range_text=[\"\", \"\"],\n",
    "        pieces=my_pieces,\n",
    "        is_label_show=True,\n",
    "        )\n",
    "map.render(path=output_path)"
   ]
  },
  {
   "cell_type": "code",
   "execution_count": null,
   "metadata": {},
   "outputs": [],
   "source": []
  }
 ],
 "metadata": {
  "kernelspec": {
   "display_name": "Python 3",
   "language": "python",
   "name": "python3"
  },
  "language_info": {
   "codemirror_mode": {
    "name": "ipython",
    "version": 3
   },
   "file_extension": ".py",
   "mimetype": "text/x-python",
   "name": "python",
   "nbconvert_exporter": "python",
   "pygments_lexer": "ipython3",
   "version": "3.7.3"
  }
 },
 "nbformat": 4,
 "nbformat_minor": 2
}
